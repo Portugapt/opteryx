{
 "cells": [
  {
   "cell_type": "markdown",
   "metadata": {
    "tags": []
   },
   "source": [
    "# Opteryx Welcome\n",
    "\n",
    "In this Notebook we're going to execute a simple SQL query using Opteryx against an internal sample dataset.\n",
    "\n",
    "To do this, first of all we're going to import the Opteryx library."
   ]
  },
  {
   "cell_type": "code",
   "execution_count": null,
   "metadata": {},
   "outputs": [],
   "source": [
    "try:\n",
    "    import opteryx\n",
    "except ImportError:\n",
    "    print('opteryx was not able to be imported, please install opteryx by running `pip install opteryx` and restart this notebook before trying again.')"
   ]
  },
  {
   "cell_type": "markdown",
   "metadata": {},
   "source": [
    "We're now going to define a helper method to help with displaying the result in Notebooks."
   ]
  },
  {
   "cell_type": "code",
   "execution_count": null,
   "metadata": {},
   "outputs": [],
   "source": [
    "# a helper method to render Opteryx results in a notebook\n",
    "def render_results(results, size:int = 10):\n",
    "    from IPython.display import HTML, display\n",
    "    from opteryx.utils.display import html_table\n",
    "    html = html_table(results, size)\n",
    "    display(HTML(html))"
   ]
  },
  {
   "cell_type": "markdown",
   "metadata": {},
   "source": [
    "Now we're going to use the DBAPI-style interface to run a SQL statement and display the result."
   ]
  },
  {
   "cell_type": "code",
   "execution_count": null,
   "metadata": {},
   "outputs": [],
   "source": [
    "# define our SQL statement\n",
    "sql_statement = \"SELECT * FROM $planets;\"\n",
    "\n",
    "# Create a connection, as $planets is an internal dataset we don't need to configure the connection\n",
    "conn = opteryx.connect()\n",
    "\n",
    "# create a database cursor\n",
    "cursor = conn.cursor()\n",
    "\n",
    "# execute our SQL statement\n",
    "cursor.execute(sql_statement)\n",
    "\n",
    "# display the first 10 results using the helper function\n",
    "render_results(cursor.fetchmany(10), 10)"
   ]
  },
  {
   "cell_type": "code",
   "execution_count": null,
   "metadata": {},
   "outputs": [],
   "source": []
  }
 ],
 "metadata": {
  "kernelspec": {
   "display_name": "Python 3 (ipykernel)",
   "language": "python",
   "name": "python3"
  },
  "language_info": {
   "codemirror_mode": {
    "name": "ipython",
    "version": 3
   },
   "file_extension": ".py",
   "mimetype": "text/x-python",
   "name": "python",
   "nbconvert_exporter": "python",
   "pygments_lexer": "ipython3",
   "version": "3.8.5"
  }
 },
 "nbformat": 4,
 "nbformat_minor": 4
}
