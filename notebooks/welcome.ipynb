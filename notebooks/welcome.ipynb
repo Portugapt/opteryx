{
 "cells": [
  {
   "cell_type": "markdown",
   "metadata": {},
   "source": [
    "# Opteryx Welcome\n",
    "\n",
    "In this notebook we're going to execute simple SQL queries using Opteryx against a sample dataset.\n",
    "\n",
    "To do this, first of all we're going to import the Opteryx library and define some helper methods, one to wrap running the queries, and two to help with rendering the results nicely in Notebooks."
   ]
  },
  {
   "cell_type": "code",
   "execution_count": 39,
   "metadata": {},
   "outputs": [],
   "source": [
    "try:\n",
    "    import opteryx\n",
    "except ImportError:\n",
    "    print('opteryx was not able to be imported, please install opteryx by running `pip install opteryx` and restart this notebook before trying again.')"
   ]
  },
  {
   "cell_type": "code",
   "execution_count": 40,
   "metadata": {},
   "outputs": [],
   "source": [
    "# a helper method to execute a SQL statement and return the results\n",
    "def execute_sql(statement):\n",
    "    conn = opteryx.connect(reader=None, partition_scheme=None)\n",
    "    cursor = conn.cursor()\n",
    "    cursor.execute(statement)\n",
    "\n",
    "    return cursor.fetchmany(5)\n",
    "\n",
    "# a helper method to render results to a HTML table\n",
    "def results_to_html_table(results):\n",
    "    from opteryx.engine.display import html_table\n",
    "    return html_table(results)\n",
    "\n",
    "# a helper method to render HTML in a notebook\n",
    "def render_html(html):\n",
    "    from IPython.display import HTML, display\n",
    "    display(HTML(html))"
   ]
  },
  {
   "cell_type": "markdown",
   "metadata": {},
   "source": [
    "For our first query, we're going to do a simple SELECT * against one of the built-in datasets.\n",
    "\n",
    "This will return all of the records in the dataset, however, the rendering to a HTML table limits to 5 records."
   ]
  },
  {
   "cell_type": "code",
   "execution_count": 41,
   "metadata": {},
   "outputs": [
    {
     "data": {
      "text/html": [
       "<table class=\"table table-sm\"><thead class=\"thead-light\"><tr><th>gm<th>\n",
       "<th>name<th>\n",
       "<th>density<th>\n",
       "<th>radius<th>\n",
       "<th>id<th>\n",
       "<th>magnitude<th>\n",
       "<th>planetId<th>\n",
       "<th>albedo<th>\n",
       "</tr></thead><tbody><tr><td title='4902.801' style='max-width:320px;overflow:hidden;text-overflow:ellipsis;white-space:nowrap;'>4902.801<td>\n",
       "<td title='Moon' style='max-width:320px;overflow:hidden;text-overflow:ellipsis;white-space:nowrap;'>Moon<td>\n",
       "<td title='3.344' style='max-width:320px;overflow:hidden;text-overflow:ellipsis;white-space:nowrap;'>3.344<td>\n",
       "<td title='1737.5' style='max-width:320px;overflow:hidden;text-overflow:ellipsis;white-space:nowrap;'>1737.5<td>\n",
       "<td title='1' style='max-width:320px;overflow:hidden;text-overflow:ellipsis;white-space:nowrap;'>1<td>\n",
       "<td title='-12.74' style='max-width:320px;overflow:hidden;text-overflow:ellipsis;white-space:nowrap;'>-12.74<td>\n",
       "<td title='3' style='max-width:320px;overflow:hidden;text-overflow:ellipsis;white-space:nowrap;'>3<td>\n",
       "<td title='0.12' style='max-width:320px;overflow:hidden;text-overflow:ellipsis;white-space:nowrap;'>0.12<td>\n",
       "</tr><tr><td title='0.000711' style='max-width:320px;overflow:hidden;text-overflow:ellipsis;white-space:nowrap;'>0.000711<td>\n",
       "<td title='Phobos' style='max-width:320px;overflow:hidden;text-overflow:ellipsis;white-space:nowrap;'>Phobos<td>\n",
       "<td title='1.872' style='max-width:320px;overflow:hidden;text-overflow:ellipsis;white-space:nowrap;'>1.872<td>\n",
       "<td title='11.1' style='max-width:320px;overflow:hidden;text-overflow:ellipsis;white-space:nowrap;'>11.1<td>\n",
       "<td title='2' style='max-width:320px;overflow:hidden;text-overflow:ellipsis;white-space:nowrap;'>2<td>\n",
       "<td title='11.4' style='max-width:320px;overflow:hidden;text-overflow:ellipsis;white-space:nowrap;'>11.4<td>\n",
       "<td title='4' style='max-width:320px;overflow:hidden;text-overflow:ellipsis;white-space:nowrap;'>4<td>\n",
       "<td title='0.071' style='max-width:320px;overflow:hidden;text-overflow:ellipsis;white-space:nowrap;'>0.071<td>\n",
       "</tr><tr><td title='9.9e-05' style='max-width:320px;overflow:hidden;text-overflow:ellipsis;white-space:nowrap;'>9.9e-05<td>\n",
       "<td title='Deimos' style='max-width:320px;overflow:hidden;text-overflow:ellipsis;white-space:nowrap;'>Deimos<td>\n",
       "<td title='1.471' style='max-width:320px;overflow:hidden;text-overflow:ellipsis;white-space:nowrap;'>1.471<td>\n",
       "<td title='6.2' style='max-width:320px;overflow:hidden;text-overflow:ellipsis;white-space:nowrap;'>6.2<td>\n",
       "<td title='3' style='max-width:320px;overflow:hidden;text-overflow:ellipsis;white-space:nowrap;'>3<td>\n",
       "<td title='12.45' style='max-width:320px;overflow:hidden;text-overflow:ellipsis;white-space:nowrap;'>12.45<td>\n",
       "<td title='4' style='max-width:320px;overflow:hidden;text-overflow:ellipsis;white-space:nowrap;'>4<td>\n",
       "<td title='0.068' style='max-width:320px;overflow:hidden;text-overflow:ellipsis;white-space:nowrap;'>0.068<td>\n",
       "</tr><tr><td title='5959.916' style='max-width:320px;overflow:hidden;text-overflow:ellipsis;white-space:nowrap;'>5959.916<td>\n",
       "<td title='Io' style='max-width:320px;overflow:hidden;text-overflow:ellipsis;white-space:nowrap;'>Io<td>\n",
       "<td title='3.528' style='max-width:320px;overflow:hidden;text-overflow:ellipsis;white-space:nowrap;'>3.528<td>\n",
       "<td title='1821.6' style='max-width:320px;overflow:hidden;text-overflow:ellipsis;white-space:nowrap;'>1821.6<td>\n",
       "<td title='4' style='max-width:320px;overflow:hidden;text-overflow:ellipsis;white-space:nowrap;'>4<td>\n",
       "<td title='5.02' style='max-width:320px;overflow:hidden;text-overflow:ellipsis;white-space:nowrap;'>5.02<td>\n",
       "<td title='5' style='max-width:320px;overflow:hidden;text-overflow:ellipsis;white-space:nowrap;'>5<td>\n",
       "<td title='0.63' style='max-width:320px;overflow:hidden;text-overflow:ellipsis;white-space:nowrap;'>0.63<td>\n",
       "</tr><tr><td title='3202.739' style='max-width:320px;overflow:hidden;text-overflow:ellipsis;white-space:nowrap;'>3202.739<td>\n",
       "<td title='Europa' style='max-width:320px;overflow:hidden;text-overflow:ellipsis;white-space:nowrap;'>Europa<td>\n",
       "<td title='3.013' style='max-width:320px;overflow:hidden;text-overflow:ellipsis;white-space:nowrap;'>3.013<td>\n",
       "<td title='1560.8' style='max-width:320px;overflow:hidden;text-overflow:ellipsis;white-space:nowrap;'>1560.8<td>\n",
       "<td title='5' style='max-width:320px;overflow:hidden;text-overflow:ellipsis;white-space:nowrap;'>5<td>\n",
       "<td title='5.29' style='max-width:320px;overflow:hidden;text-overflow:ellipsis;white-space:nowrap;'>5.29<td>\n",
       "<td title='5' style='max-width:320px;overflow:hidden;text-overflow:ellipsis;white-space:nowrap;'>5<td>\n",
       "<td title='0.67' style='max-width:320px;overflow:hidden;text-overflow:ellipsis;white-space:nowrap;'>0.67<td>\n",
       "</tr></tbody></table>\n",
       "<p>top 5 rows x 8 columns</p>\n",
       "NOTE: the displayed records may have been spent"
      ],
      "text/plain": [
       "<IPython.core.display.HTML object>"
      ]
     },
     "metadata": {},
     "output_type": "display_data"
    }
   ],
   "source": [
    "SQL = \"SELECT * FROM $satellites\"\n",
    "\n",
    "results = execute_sql(SQL)\n",
    "html_table_of_results = results_to_html_table(results)\n",
    "\n",
    "render_html(html_table_of_results)"
   ]
  },
  {
   "cell_type": "markdown",
   "metadata": {},
   "source": [
    "Next, we're going to filter to just the satellites of Saturn by using a WHERE clause."
   ]
  },
  {
   "cell_type": "code",
   "execution_count": 34,
   "metadata": {},
   "outputs": [
    {
     "data": {
      "text/html": [
       "<table class=\"table table-sm\"><thead class=\"thead-light\"><tr><th>gm<th>\n",
       "<th>name<th>\n",
       "<th>density<th>\n",
       "<th>radius<th>\n",
       "<th>id<th>\n",
       "<th>magnitude<th>\n",
       "<th>planetId<th>\n",
       "<th>albedo<th>\n",
       "</tr></thead><tbody><tr><td title='2.5026' style='max-width:320px;overflow:hidden;text-overflow:ellipsis;white-space:nowrap;'>2.5026<td>\n",
       "<td title='Mimas' style='max-width:320px;overflow:hidden;text-overflow:ellipsis;white-space:nowrap;'>Mimas<td>\n",
       "<td title='1.15' style='max-width:320px;overflow:hidden;text-overflow:ellipsis;white-space:nowrap;'>1.15<td>\n",
       "<td title='198.2' style='max-width:320px;overflow:hidden;text-overflow:ellipsis;white-space:nowrap;'>198.2<td>\n",
       "<td title='71' style='max-width:320px;overflow:hidden;text-overflow:ellipsis;white-space:nowrap;'>71<td>\n",
       "<td title='12.8' style='max-width:320px;overflow:hidden;text-overflow:ellipsis;white-space:nowrap;'>12.8<td>\n",
       "<td title='6' style='max-width:320px;overflow:hidden;text-overflow:ellipsis;white-space:nowrap;'>6<td>\n",
       "<td title='0.962' style='max-width:320px;overflow:hidden;text-overflow:ellipsis;white-space:nowrap;'>0.962<td>\n",
       "</tr><tr><td title='7.2027' style='max-width:320px;overflow:hidden;text-overflow:ellipsis;white-space:nowrap;'>7.2027<td>\n",
       "<td title='Enceladus' style='max-width:320px;overflow:hidden;text-overflow:ellipsis;white-space:nowrap;'>Enceladus<td>\n",
       "<td title='1.608' style='max-width:320px;overflow:hidden;text-overflow:ellipsis;white-space:nowrap;'>1.608<td>\n",
       "<td title='252.1' style='max-width:320px;overflow:hidden;text-overflow:ellipsis;white-space:nowrap;'>252.1<td>\n",
       "<td title='72' style='max-width:320px;overflow:hidden;text-overflow:ellipsis;white-space:nowrap;'>72<td>\n",
       "<td title='11.8' style='max-width:320px;overflow:hidden;text-overflow:ellipsis;white-space:nowrap;'>11.8<td>\n",
       "<td title='6' style='max-width:320px;overflow:hidden;text-overflow:ellipsis;white-space:nowrap;'>6<td>\n",
       "<td title='1.375' style='max-width:320px;overflow:hidden;text-overflow:ellipsis;white-space:nowrap;'>1.375<td>\n",
       "</tr><tr><td title='41.2067' style='max-width:320px;overflow:hidden;text-overflow:ellipsis;white-space:nowrap;'>41.2067<td>\n",
       "<td title='Tethys' style='max-width:320px;overflow:hidden;text-overflow:ellipsis;white-space:nowrap;'>Tethys<td>\n",
       "<td title='0.973' style='max-width:320px;overflow:hidden;text-overflow:ellipsis;white-space:nowrap;'>0.973<td>\n",
       "<td title='533.0' style='max-width:320px;overflow:hidden;text-overflow:ellipsis;white-space:nowrap;'>533.0<td>\n",
       "<td title='73' style='max-width:320px;overflow:hidden;text-overflow:ellipsis;white-space:nowrap;'>73<td>\n",
       "<td title='10.2' style='max-width:320px;overflow:hidden;text-overflow:ellipsis;white-space:nowrap;'>10.2<td>\n",
       "<td title='6' style='max-width:320px;overflow:hidden;text-overflow:ellipsis;white-space:nowrap;'>6<td>\n",
       "<td title='1.229' style='max-width:320px;overflow:hidden;text-overflow:ellipsis;white-space:nowrap;'>1.229<td>\n",
       "</tr><tr><td title='73.1146' style='max-width:320px;overflow:hidden;text-overflow:ellipsis;white-space:nowrap;'>73.1146<td>\n",
       "<td title='Dione' style='max-width:320px;overflow:hidden;text-overflow:ellipsis;white-space:nowrap;'>Dione<td>\n",
       "<td title='1.476' style='max-width:320px;overflow:hidden;text-overflow:ellipsis;white-space:nowrap;'>1.476<td>\n",
       "<td title='561.7' style='max-width:320px;overflow:hidden;text-overflow:ellipsis;white-space:nowrap;'>561.7<td>\n",
       "<td title='74' style='max-width:320px;overflow:hidden;text-overflow:ellipsis;white-space:nowrap;'>74<td>\n",
       "<td title='10.4' style='max-width:320px;overflow:hidden;text-overflow:ellipsis;white-space:nowrap;'>10.4<td>\n",
       "<td title='6' style='max-width:320px;overflow:hidden;text-overflow:ellipsis;white-space:nowrap;'>6<td>\n",
       "<td title='0.998' style='max-width:320px;overflow:hidden;text-overflow:ellipsis;white-space:nowrap;'>0.998<td>\n",
       "</tr><tr><td title='153.9426' style='max-width:320px;overflow:hidden;text-overflow:ellipsis;white-space:nowrap;'>153.9426<td>\n",
       "<td title='Rhea' style='max-width:320px;overflow:hidden;text-overflow:ellipsis;white-space:nowrap;'>Rhea<td>\n",
       "<td title='1.233' style='max-width:320px;overflow:hidden;text-overflow:ellipsis;white-space:nowrap;'>1.233<td>\n",
       "<td title='764.3' style='max-width:320px;overflow:hidden;text-overflow:ellipsis;white-space:nowrap;'>764.3<td>\n",
       "<td title='75' style='max-width:320px;overflow:hidden;text-overflow:ellipsis;white-space:nowrap;'>75<td>\n",
       "<td title='9.6' style='max-width:320px;overflow:hidden;text-overflow:ellipsis;white-space:nowrap;'>9.6<td>\n",
       "<td title='6' style='max-width:320px;overflow:hidden;text-overflow:ellipsis;white-space:nowrap;'>6<td>\n",
       "<td title='0.949' style='max-width:320px;overflow:hidden;text-overflow:ellipsis;white-space:nowrap;'>0.949<td>\n",
       "</tr></tbody></table>\n",
       "<p>top 5 rows x 8 columns</p>\n",
       "NOTE: the displayed records may have been spent"
      ],
      "text/plain": [
       "<IPython.core.display.HTML object>"
      ]
     },
     "metadata": {},
     "output_type": "display_data"
    }
   ],
   "source": [
    "SQL = \"SELECT * FROM $satellites WHERE planetId = 6\"\n",
    "\n",
    "results = execute_sql(SQL)\n",
    "html_table_of_results = results_to_html_table(results)\n",
    "\n",
    "render_html(html_table_of_results)"
   ]
  },
  {
   "cell_type": "code",
   "execution_count": null,
   "metadata": {},
   "outputs": [],
   "source": [
    "Finally, for this demo, we're going to count the number of satellites for each planet."
   ]
  },
  {
   "cell_type": "code",
   "execution_count": 36,
   "metadata": {},
   "outputs": [
    {
     "name": "stdout",
     "output_type": "stream",
     "text": [
      "['planetId', {'aggregate': 'COUNT', 'args': [('Wildcard', <TOKEN_TYPES.WILDCARD: 'WILDCARD'>)], 'alias': None}]\n"
     ]
    },
    {
     "data": {
      "text/html": [
       "<table class=\"table table-sm\"><thead class=\"thead-light\"><tr><th>COUNT(*)<th>\n",
       "<th>planetId<th>\n",
       "</tr></thead><tbody><tr><td title='1' style='max-width:320px;overflow:hidden;text-overflow:ellipsis;white-space:nowrap;'>1<td>\n",
       "<td title='3' style='max-width:320px;overflow:hidden;text-overflow:ellipsis;white-space:nowrap;'>3<td>\n",
       "</tr><tr><td title='2' style='max-width:320px;overflow:hidden;text-overflow:ellipsis;white-space:nowrap;'>2<td>\n",
       "<td title='4' style='max-width:320px;overflow:hidden;text-overflow:ellipsis;white-space:nowrap;'>4<td>\n",
       "</tr><tr><td title='67' style='max-width:320px;overflow:hidden;text-overflow:ellipsis;white-space:nowrap;'>67<td>\n",
       "<td title='5' style='max-width:320px;overflow:hidden;text-overflow:ellipsis;white-space:nowrap;'>5<td>\n",
       "</tr><tr><td title='61' style='max-width:320px;overflow:hidden;text-overflow:ellipsis;white-space:nowrap;'>61<td>\n",
       "<td title='6' style='max-width:320px;overflow:hidden;text-overflow:ellipsis;white-space:nowrap;'>6<td>\n",
       "</tr><tr><td title='27' style='max-width:320px;overflow:hidden;text-overflow:ellipsis;white-space:nowrap;'>27<td>\n",
       "<td title='7' style='max-width:320px;overflow:hidden;text-overflow:ellipsis;white-space:nowrap;'>7<td>\n",
       "</tr></tbody></table>\n",
       "<p>top 5 rows x 2 columns</p>\n",
       "NOTE: the displayed records may have been spent"
      ],
      "text/plain": [
       "<IPython.core.display.HTML object>"
      ]
     },
     "metadata": {},
     "output_type": "display_data"
    }
   ],
   "source": [
    "SQL = \"SELECT planetId, COUNT(*) FROM $satellites GROUP BY planetId\"\n",
    "\n",
    "results = execute_sql(SQL)\n",
    "html_table_of_results = results_to_html_table(results)\n",
    "\n",
    "render_html(html_table_of_results)"
   ]
  },
  {
   "cell_type": "code",
   "execution_count": null,
   "metadata": {},
   "outputs": [],
   "source": []
  }
 ],
 "metadata": {
  "kernelspec": {
   "display_name": "Python 3 (ipykernel)",
   "language": "python",
   "name": "python3"
  },
  "language_info": {
   "codemirror_mode": {
    "name": "ipython",
    "version": 3
   },
   "file_extension": ".py",
   "mimetype": "text/x-python",
   "name": "python",
   "nbconvert_exporter": "python",
   "pygments_lexer": "ipython3",
   "version": "3.8.5"
  }
 },
 "nbformat": 4,
 "nbformat_minor": 4
}
