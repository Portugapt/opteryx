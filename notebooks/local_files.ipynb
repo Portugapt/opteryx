{
 "cells": [
  {
   "cell_type": "markdown",
   "metadata": {},
   "source": [
    "# Opteryx - Query Local Files\n",
    "\n",
    "In this notebook we will be querying data from a local folder.\n",
    "\n",
    "We're going to use data of Space Missions from 1957 to 2022 [Kaggle](https://www.kaggle.com/datasets/mysarahmadbhat/space-missions/versions/1?resource=download). The snapshot we are using was published 2022-08-10 by Mysar Ahmad Bhat under a Public Domain licence.\n",
    "\n",
    "> **Note**   \n",
    "> Because we are reading from local storage the location where Jupyter is started matters. This script assumes you have started in the 'opteryx/notebooks' folder. You will get errors relating to the dataset not being able to found if Jupyter was not started in the right folder. If this happens, one of two remediations are recommended:\n",
    "> 1) Kill the Jupyter instance, browse to the 'opteryx/notebooks' folder and restart Jupyter.\n",
    "> 2) Copy the 'space_missions' folder from 'opteryx/notebooks' to the root folder of Jupyter."
   ]
  },
  {
   "cell_type": "code",
   "execution_count": null,
   "metadata": {},
   "outputs": [],
   "source": [
    "try:\n",
    "    import opteryx\n",
    "except ImportError:\n",
    "    print('opteryx was not able to be imported, please install opteryx by running `pip install opteryx` and restart this notebook before trying again.')"
   ]
  },
  {
   "cell_type": "markdown",
   "metadata": {},
   "source": [
    "To access data on disk, we need to load the `DiskStorage` connect and register that if a dataset starts with 'space_missions' (our folder), that Opteryx should look for that on disk.\n",
    "\n",
    "Other connectors are available including `GcsStorage` and `MinIoStorage` for accessing data held on these storage systems."
   ]
  },
  {
   "cell_type": "code",
   "execution_count": null,
   "metadata": {},
   "outputs": [],
   "source": [
    "from opteryx.connectors import DiskStorage\n",
    "\n",
    "opteryx.register_store('space_missions', DiskStorage)"
   ]
  },
  {
   "cell_type": "markdown",
   "metadata": {},
   "source": [
    "Now we can query the data held in the 'space_missions' folder like it was a database table. "
   ]
  },
  {
   "cell_type": "code",
   "execution_count": null,
   "metadata": {},
   "outputs": [],
   "source": [
    "# define our SQL statement\n",
    "sql_statement = \"SELECT * FROM space_missions;\"\n",
    "\n",
    "# Create a connection\n",
    "conn = opteryx.connect()\n",
    "\n",
    "# create a database cursor\n",
    "cursor = conn.cursor()\n",
    "\n",
    "# execute our SQL statement\n",
    "cursor.execute(sql_statement)\n",
    "\n",
    "# display the first 10 results\n",
    "cursor.head(10)"
   ]
  },
  {
   "cell_type": "markdown",
   "metadata": {},
   "source": [
    "We can query this dataset using a range of standard SQL functionality - for example to find the 5 companies responsible for the most space missions we can run the below query:"
   ]
  },
  {
   "cell_type": "code",
   "execution_count": null,
   "metadata": {},
   "outputs": [],
   "source": [
    "# define our SQL statement\n",
    "sql_statement = \"SELECT COUNT(*) AS Missions, Company FROM space_missions GROUP BY Company ORDER BY Missions DESC LIMIT 5;\"\n",
    "\n",
    "# Create a connection\n",
    "conn = opteryx.connect()\n",
    "\n",
    "# create a database cursor\n",
    "cursor = conn.cursor()\n",
    "\n",
    "# execute our SQL statement\n",
    "cursor.execute(sql_statement)\n",
    "\n",
    "# display the results - we've limited to the TOP 5\n",
    "cursor.head(5)"
   ]
  },
  {
   "cell_type": "code",
   "execution_count": null,
   "metadata": {},
   "outputs": [],
   "source": []
  }
 ],
 "metadata": {
  "kernelspec": {
   "display_name": "Python 3 (ipykernel)",
   "language": "python",
   "name": "python3"
  },
  "language_info": {
   "codemirror_mode": {
    "name": "ipython",
    "version": 3
   },
   "file_extension": ".py",
   "mimetype": "text/x-python",
   "name": "python",
   "nbconvert_exporter": "python",
   "pygments_lexer": "ipython3",
   "version": "3.8.5"
  }
 },
 "nbformat": 4,
 "nbformat_minor": 4
}
